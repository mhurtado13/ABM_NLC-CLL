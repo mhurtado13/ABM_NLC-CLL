{
 "cells": [
  {
   "cell_type": "markdown",
   "metadata": {},
   "source": [
    "### Genetic algorithm using Pymoo"
   ]
  },
  {
   "cell_type": "markdown",
   "metadata": {},
   "source": [
    "#### Problem"
   ]
  },
  {
   "cell_type": "code",
   "execution_count": 39,
   "metadata": {},
   "outputs": [],
   "source": [
    "from pymoo.core.problem import ElementwiseProblem, Problem\n",
    "\n",
    "### Vectorized problem\n",
    "class DeterministicProblem_P(Problem):\n",
    "    def __init__(self):\n",
    "        super().__init__(n_var=1, #Number of variables\n",
    "                         n_obj=1, #Number of objective functions\n",
    "                         n_ieq_constr=0, #Number of inequalities constraints\n",
    "                         n_eq_constr=0, #Number of equalities constraints\n",
    "                         xl=-5, #Lower threshold \n",
    "                         xu=5) #Upper threshold\n",
    "        \n",
    "    def _evaluate(self, x, out, *args, **kwargs):\n",
    "        out[\"F\"] = (x-3)**2\n",
    "\n",
    "problem_p = DeterministicProblem_P()\n",
    "\n",
    "\n",
    "### ElementwiseProblem\n",
    "class DeterministicProblem_EWP(ElementwiseProblem):\n",
    "    def __init__(self, elementwise=True, **kwargs):\n",
    "        super().__init__(n_var = 1, #Number of variables\n",
    "                         n_obj = 1, #Number of objective functions\n",
    "                         n_ieq_constr=0, #Number of inequalities constraints\n",
    "                         n_eq_constr=0, #Number of equalities constraints\n",
    "                         xl = -5, #Lower threshold \n",
    "                         xu = 5) #Upper threshold\n",
    "    \n",
    "    def _evaluate(self, x, out, *args, **kwargs):\n",
    "        out[\"F\"] = (x-3)**2\n",
    "        \n",
    "problem_ewp = DeterministicProblem_EWP()"
   ]
  },
  {
   "cell_type": "markdown",
   "metadata": {},
   "source": [
    "#### Algorithms"
   ]
  },
  {
   "cell_type": "markdown",
   "metadata": {},
   "source": [
    "##### Single objective functions"
   ]
  },
  {
   "cell_type": "code",
   "execution_count": 40,
   "metadata": {},
   "outputs": [],
   "source": [
    "from pymoo.algorithms.soo.nonconvex.de import DE\n",
    "from pymoo.algorithms.soo.nonconvex.ga import GA\n",
    "from pymoo.algorithms.soo.nonconvex.nelder import NelderMead\n",
    "from pymoo.optimize import minimize\n",
    "\n",
    "de_algo = DE(pop_size=50)\n",
    "ga_algo = GA(pop_size=50)\n",
    "nm_algo = NelderMead(init_simplex_scale=0.1)\n",
    "\n",
    "res = minimize(problem=problem_ewp,\n",
    "               algorithm=ga_algo,\n",
    "               seed =1,\n",
    "               verbose = False)\n",
    "\n",
    "X = res.X\n",
    "F = res.F"
   ]
  },
  {
   "cell_type": "markdown",
   "metadata": {},
   "source": [
    "##### Multi-objective functions"
   ]
  },
  {
   "cell_type": "code",
   "execution_count": 25,
   "metadata": {},
   "outputs": [],
   "source": [
    "import numpy as np\n",
    "\n",
    "class BNH(Problem):\n",
    "    def _init_(self):\n",
    "        super().__init__(n_var= 2,\n",
    "                         n_obj=2,\n",
    "                         n_ieq_constr=2,\n",
    "                         xl = np.array([0, 0]),\n",
    "                         xu = np.array([5,3]))\n",
    "        \n",
    "    def _evaluate(self, x, out, *args, **kwargs):\n",
    "\n",
    "        #Objective functions\n",
    "        obj1 = 4*(x[:,0]**2) + 4*(x[:,1]**2) #Objective function 1\n",
    "        obj2 = (x[:,0]-5)**2 + (x[:,1]-5)**2 #Objective function 2\n",
    "\n",
    "        #Constraints, default orientation of constraints being met is < 0\n",
    "        const1 = (x[:,0]-5)**2 + x[:,1]**2 - 25\n",
    "        const2 = 7.7 - (x[:,0]-8)**2 -(x[:,1]+3)**2\n",
    "\n",
    "        #Stacking objectives to \"F\" and constraints to \"G\"\n",
    "        out[\"F\"] = np.column_stack([obj1, obj2])\n",
    "        out[\"G\"] = np.column_stack([const1, const2])"
   ]
  },
  {
   "cell_type": "code",
   "execution_count": 26,
   "metadata": {},
   "outputs": [],
   "source": [
    "bnh_problem = BNH()"
   ]
  },
  {
   "cell_type": "code",
   "execution_count": 7,
   "metadata": {},
   "outputs": [
    {
     "name": "stdout",
     "output_type": "stream",
     "text": [
      "10\n"
     ]
    }
   ],
   "source": [
    "def sum(x1, x3):\n",
    "    n = x1 + x3\n",
    "    m = x1*x3\n",
    "\n",
    "    return n, m\n",
    "\n",
    "print(sum(2,5)[1])"
   ]
  },
  {
   "cell_type": "code",
   "execution_count": 29,
   "metadata": {},
   "outputs": [],
   "source": [
    "from pymoo.util.plotting import plot\n",
    "n_points = 50 \n",
    "\n",
    "x1 = np.linspace(0,5, n_points)\n",
    "x2 = np.linspace(0,3, n_points)\n",
    "\n",
    "X = np.column_stack([x1, x2])\n",
    "#plot(bnh_problem.evaluate(X, return_values_of=[\"F\"]))"
   ]
  },
  {
   "cell_type": "code",
   "execution_count": 24,
   "metadata": {},
   "outputs": [
    {
     "data": {
      "image/png": "[encoded data removed]",
      "text/plain": [
       "<Figure size 640x480 with 1 Axes>"
      ]
     },
     "metadata": {},
     "output_type": "display_data"
    }
   ],
   "source": [
    "import numpy as np\n",
    "from pymoo.core.problem import ElementwiseProblem, Problem\n",
    "\n",
    "class BNH(Problem):\n",
    "    def __init__(self):\n",
    "        super().__init__(n_var= 2,\n",
    "                         n_obj=2,\n",
    "                         n_ieq_constr=2,\n",
    "                         xl = np.array([0, 0]),\n",
    "                         xu = np.array([5,3]))\n",
    "        \n",
    "    def _evaluate(self, x, out, *args, **kwargs):\n",
    "\n",
    "        #Objective functions\n",
    "        obj1 = 4*(x[:,0]**2) + 4*(x[:,1]**2) #Objective function 1\n",
    "        obj2 = (x[:,0]-5)**2 + (x[:,1]-5)**2 #Objective function 2\n",
    "\n",
    "        #Constraints, default orientation of constraints being met is < 0\n",
    "        const1 = (x[:,0]-5)**2 + x[:,1]**2 - 25\n",
    "        const2 = 7.7 - (x[:,0]-8)**2 -(x[:,1]+3)**2\n",
    "\n",
    "        #Stacking objectives to \"F\" and constraints to \"G\"\n",
    "        out[\"F\"] = np.column_stack([obj1, obj2])\n",
    "        out[\"G\"] = np.column_stack([const1, const2])\n",
    "        \n",
    "\n",
    "bnh_problem = BNH()\n",
    "\n",
    "# Let's visualise the problem\n",
    "from pymoo.util.plotting import plot\n",
    "\n",
    "n_points = 50\n",
    "\n",
    "x1 = np.linspace(0, 5, n_points)\n",
    "x2 = np.linspace(0, 3, n_points)\n",
    "\n",
    "X = np.column_stack([x1, x2])\n",
    "plot(bnh_problem.evaluate(X, return_values_of=[\"F\"]))\n"
   ]
  },
  {
   "cell_type": "code",
   "execution_count": 25,
   "metadata": {},
   "outputs": [
    {
     "name": "stdout",
     "output_type": "stream",
     "text": [
      "==========================================================================================\n",
      "n_gen  |  n_eval  | n_nds  |     cv_min    |     cv_avg    |      eps      |   indicator  \n",
      "==========================================================================================\n",
      "     1 |     1000 |    170 |  0.000000E+00 |  0.1643704963 |             - |             -\n",
      "     2 |     2000 |    246 |  0.000000E+00 |  0.000000E+00 |  0.0033525942 |         ideal\n",
      "     3 |     3000 |    355 |  0.000000E+00 |  0.000000E+00 |  0.0041060214 |         ideal\n",
      "     4 |     4000 |    467 |  0.000000E+00 |  0.000000E+00 |  0.0010565735 |             f\n",
      "     5 |     5000 |    627 |  0.000000E+00 |  0.000000E+00 |  0.0016527797 |             f\n",
      "     6 |     6000 |    820 |  0.000000E+00 |  0.000000E+00 |  0.0141313888 |         nadir\n",
      "     7 |     7000 |   1000 |  0.000000E+00 |  0.000000E+00 |  0.0074281685 |         nadir\n",
      "     8 |     8000 |   1000 |  0.000000E+00 |  0.000000E+00 |  0.0092772392 |         nadir\n",
      "     9 |     9000 |   1000 |  0.000000E+00 |  0.000000E+00 |  0.0060992118 |         nadir\n",
      "    10 |    10000 |   1000 |  0.000000E+00 |  0.000000E+00 |  0.0001299511 |             f\n",
      "    11 |    11000 |   1000 |  0.000000E+00 |  0.000000E+00 |  0.0002799644 |             f\n",
      "    12 |    12000 |   1000 |  0.000000E+00 |  0.000000E+00 |  0.0003629283 |             f\n",
      "    13 |    13000 |   1000 |  0.000000E+00 |  0.000000E+00 |  0.0004318108 |             f\n",
      "    14 |    14000 |   1000 |  0.000000E+00 |  0.000000E+00 |  0.0004977679 |             f\n",
      "    15 |    15000 |   1000 |  0.000000E+00 |  0.000000E+00 |  0.0005384271 |             f\n",
      "    16 |    16000 |   1000 |  0.000000E+00 |  0.000000E+00 |  0.0005816933 |             f\n",
      "    17 |    17000 |   1000 |  0.000000E+00 |  0.000000E+00 |  0.0006144501 |             f\n",
      "    18 |    18000 |   1000 |  0.000000E+00 |  0.000000E+00 |  0.0006312514 |             f\n",
      "    19 |    19000 |   1000 |  0.000000E+00 |  0.000000E+00 |  0.0006488781 |             f\n",
      "    20 |    20000 |   1000 |  0.000000E+00 |  0.000000E+00 |  0.0006800251 |             f\n",
      "    21 |    21000 |   1000 |  0.000000E+00 |  0.000000E+00 |  0.0006922349 |             f\n",
      "    22 |    22000 |   1000 |  0.000000E+00 |  0.000000E+00 |  0.0006603051 |             f\n",
      "    23 |    23000 |   1000 |  0.000000E+00 |  0.000000E+00 |  0.0006847438 |             f\n",
      "    24 |    24000 |   1000 |  0.000000E+00 |  0.000000E+00 |  0.0006974737 |             f\n",
      "    25 |    25000 |   1000 |  0.000000E+00 |  0.000000E+00 |  0.0006847132 |             f\n",
      "    26 |    26000 |   1000 |  0.000000E+00 |  0.000000E+00 |  0.0006880920 |             f\n",
      "    27 |    27000 |   1000 |  0.000000E+00 |  0.000000E+00 |  0.0006958464 |             f\n",
      "    28 |    28000 |   1000 |  0.000000E+00 |  0.000000E+00 |  0.0007079856 |             f\n",
      "    29 |    29000 |   1000 |  0.000000E+00 |  0.000000E+00 |  0.0007092876 |             f\n",
      "    30 |    30000 |   1000 |  0.000000E+00 |  0.000000E+00 |  0.0007154307 |             f\n",
      "    31 |    31000 |   1000 |  0.000000E+00 |  0.000000E+00 |  0.0006948606 |             f\n",
      "    32 |    32000 |   1000 |  0.000000E+00 |  0.000000E+00 |  0.0007189520 |             f\n",
      "    33 |    33000 |   1000 |  0.000000E+00 |  0.000000E+00 |  0.0007138701 |             f\n",
      "    34 |    34000 |   1000 |  0.000000E+00 |  0.000000E+00 |  0.0007192587 |             f\n",
      "    35 |    35000 |   1000 |  0.000000E+00 |  0.000000E+00 |  0.0007126327 |             f\n",
      "    36 |    36000 |   1000 |  0.000000E+00 |  0.000000E+00 |  0.0007061705 |             f\n",
      "    37 |    37000 |   1000 |  0.000000E+00 |  0.000000E+00 |  0.0007070233 |             f\n",
      "    38 |    38000 |   1000 |  0.000000E+00 |  0.000000E+00 |  0.0007045934 |             f\n",
      "    39 |    39000 |   1000 |  0.000000E+00 |  0.000000E+00 |  0.0025600831 |         nadir\n",
      "    40 |    40000 |   1000 |  0.000000E+00 |  0.000000E+00 |  0.0001041040 |             f\n",
      "    41 |    41000 |   1000 |  0.000000E+00 |  0.000000E+00 |  0.0001778852 |             f\n",
      "    42 |    42000 |   1000 |  0.000000E+00 |  0.000000E+00 |  0.0002430860 |             f\n",
      "    43 |    43000 |   1000 |  0.000000E+00 |  0.000000E+00 |  0.0002962991 |             f\n",
      "    44 |    44000 |   1000 |  0.000000E+00 |  0.000000E+00 |  0.0003256455 |             f\n",
      "    45 |    45000 |   1000 |  0.000000E+00 |  0.000000E+00 |  0.0003597083 |             f\n",
      "    46 |    46000 |   1000 |  0.000000E+00 |  0.000000E+00 |  0.0003784055 |             f\n",
      "    47 |    47000 |   1000 |  0.000000E+00 |  0.000000E+00 |  0.0004006094 |             f\n",
      "    48 |    48000 |   1000 |  0.000000E+00 |  0.000000E+00 |  0.0004217414 |             f\n",
      "    49 |    49000 |   1000 |  0.000000E+00 |  0.000000E+00 |  0.0004360060 |             f\n",
      "    50 |    50000 |   1000 |  0.000000E+00 |  0.000000E+00 |  0.0004401474 |             f\n",
      "    51 |    51000 |   1000 |  0.000000E+00 |  0.000000E+00 |  0.0004393635 |             f\n",
      "    52 |    52000 |   1000 |  0.000000E+00 |  0.000000E+00 |  0.0004514285 |             f\n",
      "    53 |    53000 |   1000 |  0.000000E+00 |  0.000000E+00 |  0.0004525376 |             f\n",
      "    54 |    54000 |   1000 |  0.000000E+00 |  0.000000E+00 |  0.0004671642 |             f\n",
      "    55 |    55000 |   1000 |  0.000000E+00 |  0.000000E+00 |  0.0004742694 |             f\n",
      "    56 |    56000 |   1000 |  0.000000E+00 |  0.000000E+00 |  0.0004772182 |             f\n",
      "    57 |    57000 |   1000 |  0.000000E+00 |  0.000000E+00 |  0.0004755726 |             f\n",
      "    58 |    58000 |   1000 |  0.000000E+00 |  0.000000E+00 |  0.0004777096 |             f\n",
      "    59 |    59000 |   1000 |  0.000000E+00 |  0.000000E+00 |  0.0004722332 |             f\n",
      "    60 |    60000 |   1000 |  0.000000E+00 |  0.000000E+00 |  0.0004873121 |             f\n",
      "    61 |    61000 |   1000 |  0.000000E+00 |  0.000000E+00 |  0.0004877385 |             f\n",
      "    62 |    62000 |   1000 |  0.000000E+00 |  0.000000E+00 |  0.0004929961 |             f\n"
     ]
    },
    {
     "data": {
      "text/plain": [
       "array([[2.36850208e-06, 6.91741952e-06],\n",
       "       [5.00000000e+00, 3.00000000e+00],\n",
       "       [3.46138173e+00, 2.99999925e+00],\n",
       "       ...,\n",
       "       [4.33904506e-01, 5.03079164e-01],\n",
       "       [9.53479618e-01, 9.69003763e-01],\n",
       "       [1.01824180e+00, 1.02033116e+00]])"
      ]
     },
     "execution_count": 25,
     "metadata": {},
     "output_type": "execute_result"
    }
   ],
   "source": [
    "from pymoo.algorithms.moo.nsga2 import NSGA2\n",
    "algorithm = NSGA2(pop_size = 1000)\n",
    "\n",
    "res = minimize(problem = bnh_problem,\n",
    "               algorithm = algorithm,\n",
    "               seed=1,\n",
    "               verbose=True)\n",
    "\n"
   ]
  },
  {
   "cell_type": "code",
   "execution_count": 29,
   "metadata": {},
   "outputs": [
    {
     "data": {
      "image/png": "[encoded data removed]",
      "text/plain": [
       "<Figure size 640x480 with 1 Axes>"
      ]
     },
     "metadata": {},
     "output_type": "display_data"
    }
   ],
   "source": [
    "X = res.X\n",
    "F = res.F\n",
    "\n",
    "plot(res.F, )"
   ]
  },
  {
   "cell_type": "code",
   "execution_count": 38,
   "metadata": {},
   "outputs": [],
   "source": [
    "from pymoo.algorithms.soo.nonconvex.ga import GA\n",
    "from pymoo.problems import get_problem\n",
    "from pymoo.optimize import minimize\n",
    "\n",
    "\n",
    "problem = get_problem(\"sphere\")\n",
    "algorithm = GA(pop_size=5)\n",
    "res = minimize(problem,\n",
    "               algorithm,\n",
    "               ('n_gen', 30),\n",
    "               seed=1)\n",
    "\n",
    "\n",
    "X = res.X\n",
    "F = res.F"
   ]
  },
  {
   "cell_type": "code",
   "execution_count": 3,
   "metadata": {},
   "outputs": [
    {
     "data": {
      "text/plain": [
       "<pymoo.visualization.scatter.Scatter at 0x7fcef7a67280>"
      ]
     },
     "execution_count": 3,
     "metadata": {},
     "output_type": "execute_result"
    },
    {
     "data": {
      "image/png": "[encoded data removed]",
      "text/plain": [
       "<Figure size 800x600 with 1 Axes>"
      ]
     },
     "metadata": {},
     "output_type": "display_data"
    }
   ],
   "source": [
    "from pymoo.algorithms.moo.nsga2 import NSGA2\n",
    "from pymoo.problems import get_problem\n",
    "from pymoo.optimize import minimize\n",
    "from pymoo.visualization.scatter import Scatter\n",
    "\n",
    "problem = get_problem(\"zdt1\")\n",
    "\n",
    "algorithm = NSGA2(pop_size=100)\n",
    "\n",
    "res = minimize(problem,\n",
    "               algorithm,\n",
    "               ('n_gen', 200),\n",
    "               seed=1,\n",
    "               verbose=False)\n",
    "\n",
    "plot = Scatter()\n",
    "plot.add(problem.pareto_front(), plot_type=\"line\", color=\"black\", alpha=0.7)\n",
    "plot.add(res.F, facecolor=\"none\", edgecolor=\"red\")\n",
    "plot.show()"
   ]
  },
  {
   "cell_type": "code",
   "execution_count": 6,
   "metadata": {},
   "outputs": [],
   "source": [
    "from pymoo.core.problem import Problem\n",
    "import math\n",
    "import xml.etree.ElementTree as ET\n",
    "import subprocess\n",
    "import pandas as pd\n",
    "import sys\n",
    "import numpy as np\n",
    "import os\n",
    "import random\n",
    "from multiprocessing import Pool\n",
    "\n",
    "viability = np.loadtxt('../data_output/viability.csv', delimiter=\",\", skiprows=1)\n",
    "concentration = np.loadtxt('../data_output/concentration.csv', delimiter=\",\", skiprows=1)\n",
    "experimental = np.loadtxt('../../Netlogo_NLCs-CLL/filtered_fused_9patients.csv', delimiter=\",\", skiprows=1)\n",
    "viability_exp = experimental[:,1]\n",
    "concentration_exp = experimental[:,2]\n",
    "N = 13\n",
    "\n",
    "\n",
    "\n",
    "obj1 = np.sqrt(np.sum((viability - viability_exp)**2) / N) #RMSE of viability\n",
    "obj2 = np.sqrt(np.sum((concentration - concentration_exp)**2) / N) #RMSE of concentration\n",
    "\n",
    "class calibrationProb(Problem):\n",
    "    def __init__(self):\n",
    "        super().__init__(n_var = 10,\n",
    "                       n_obj = 2,\n",
    "                       xl = np.array([0.9, 0.9, 4e-5, 0.9, 24e-2, 0.9, 91e-2, 0.9, 0.9, 3e-2]),\n",
    "                       xu = np.array([1.2, 1.2, 6e-5, 1.2, 26e-2, 1.2, 93e-2, 1.2, 1.2, 5e-2]))\n",
    "        \n",
    "    def _evaluate(self, x, out):\n",
    "        #Objective functions\n",
    "        obj1 = np.sqrt(np.sum((viability - viability_exp)**2) / N) #RMSE of viability\n",
    "        obj2 = np.sqrt(np.sum((concentration - concentration_exp)**2) / N) #RMSE of concentration\n",
    "\n",
    "        #Stacking objectives to \"F\" \n",
    "        out[\"F\"] = np.column_stack([obj1, obj2])\n",
    "\n",
    "NLC_problem = calibrationProb()"
   ]
  }
 ],
 "metadata": {
  "kernelspec": {
   "display_name": "Python 3",
   "language": "python",
   "name": "python3"
  },
  "language_info": {
   "codemirror_mode": {
    "name": "ipython",
    "version": 3
   },
   "file_extension": ".py",
   "mimetype": "text/x-python",
   "name": "python",
   "nbconvert_exporter": "python",
   "pygments_lexer": "ipython3",
   "version": "3.10.12"
  }
 },
 "nbformat": 4,
 "nbformat_minor": 2
}
